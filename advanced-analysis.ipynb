{
 "cells": [
  {
   "cell_type": "markdown",
   "metadata": {},
   "source": [
    "## Advanced data analysis using field data\n",
    "\n",
    "There is data for __two pumps (Pump-ID1, and Pump-ID3)__ located in the directory. If you have time and are interested, you can look at:\n",
    "* Merging the files - is the data continuous? are there duplicate timestamps in some of the files?\n",
    "* Labeling the data for on, off, fan speed, volumetric flow rate, etc. \n",
    "* Plot the performance map. What do you notice if you filter out off modes or other irregular operating patterns?"
   ]
  },
  {
   "cell_type": "code",
   "execution_count": null,
   "metadata": {},
   "outputs": [],
   "source": [
    "## Read in data - you can loop through the files in each directory, or read them in directly using the names\n",
    "df_example = pd.read_csv(\"./Pump-ID1/01_20200223T113135_20200224T030130.csv\")"
   ]
  },
  {
   "cell_type": "markdown",
   "metadata": {},
   "source": [
    "## Some considerations:\n",
    "\n",
    "Some of the sensors are inconsistent from the lab to real pump data. Keep this in mind when reusing code from previous section.\n",
    "\n",
    "To estimate __mean indoor temperature__, take the mean of the sensors [\"T_AO1\", \"T_AO2\", \"T_AO3\"]\n",
    "\n",
    "The __VFR coefficients__ differ by heat pump. To calculate VFR use the following coefficients and the functions in the next cell.\n",
    "* For __Pump-ID1__: [-11409.0, 5241.7, -35.074]\n",
    "* For __Pump-ID3__: [-121.145, 628.571, 394.170]\n",
    "\n",
    "To run the functions above, apply using the indoor unit current (A_I), and enter the coefficients as a list: \n",
    "\n",
    "```compute_volumetric_flow_rate(df.A_I, [-11409.0, 5241.7, -35.074])```"
   ]
  },
  {
   "cell_type": "code",
   "execution_count": null,
   "metadata": {},
   "outputs": [],
   "source": [
    "import pandas as pd\n",
    "import plotly.express as px\n",
    "\n",
    "import numpy as np\n",
    "from typing import List\n",
    "def convert_cfm_to_m3s(vfr_in_cfm: pd.Series) -> pd.Series:\n",
    "    \"\"\"\n",
    "    Convert units [CFM] -> [m3s]\n",
    "    (this should be done better in the furture - maybe pint)\n",
    "    \"\"\"\n",
    "    return vfr_in_cfm * (1 / 60) * (1 / 35.3147)\n",
    "\n",
    "def compute_volumetric_flow_rate(current: pd.Series, coeffs: List[float]) -> pd.Series:\n",
    "    \"\"\"\n",
    "    Evaluate volumetric flow rate based on inside unit current\n",
    "    according to a regression based on a polynomial fit.\n",
    "    Args:\n",
    "        current: indoor unit current\n",
    "        coeffs: polynomial regression coefficients, see numpy.polyval for details\n",
    "    Returns:\n",
    "        vfr: pd.Series volumeflowrate in [m^3/s]\n",
    "    \"\"\"\n",
    "\n",
    "    flow = pd.Series(np.polyval(coeffs, current.to_numpy()), index=current.index)\n",
    "    return convert_cfm_to_m3s(flow).rename(\"VFR\")"
   ]
  }
 ],
 "metadata": {
  "kernelspec": {
   "display_name": "Python 3",
   "language": "python",
   "name": "python3"
  },
  "language_info": {
   "codemirror_mode": {
    "name": "ipython",
    "version": 3
   },
   "file_extension": ".py",
   "mimetype": "text/x-python",
   "name": "python",
   "nbconvert_exporter": "python",
   "pygments_lexer": "ipython3",
   "version": "3.8.5"
  }
 },
 "nbformat": 4,
 "nbformat_minor": 4
}
